{
 "cells": [
  {
   "cell_type": "code",
   "execution_count": 1,
   "id": "589923cb",
   "metadata": {},
   "outputs": [],
   "source": [
    "import numpy as np\n",
    "import matplotlib.pyplot as plt\n",
    "from math import factorial"
   ]
  },
  {
   "cell_type": "code",
   "execution_count": 2,
   "id": "ae6a8b9f",
   "metadata": {},
   "outputs": [],
   "source": [
    "def combi(k, n):\n",
    "    return factorial(n)/(factorial(k)*factorial(n-k))\n",
    "\n",
    "def perm(k, n):\n",
    "    return factorial(n)/factorial(n-k)\n",
    "\n",
    "def binomial(p, k, n):\n",
    "    q = 1 - p\n",
    "    return combi(k, n) * p**k * q**(n-k)"
   ]
  },
  {
   "cell_type": "markdown",
   "id": "c77c5314",
   "metadata": {},
   "source": [
    "1. Найти вероятность выпадения 2 или 5 очков при подбрасывании игральной кости, на гранях которой имеются соответственно 1,2,3,4,5 и 6 очков."
   ]
  },
  {
   "cell_type": "code",
   "execution_count": 3,
   "id": "ac381a47",
   "metadata": {},
   "outputs": [
    {
     "data": {
      "text/plain": [
       "0.3333333333333333"
      ]
     },
     "execution_count": 3,
     "metadata": {},
     "output_type": "execute_result"
    }
   ],
   "source": [
    "p2 = 1/6\n",
    "p5 = 1/6\n",
    "p = p2 + p5\n",
    "p"
   ]
  },
  {
   "cell_type": "markdown",
   "id": "87f6b88d",
   "metadata": {},
   "source": [
    "2. Найти вероятность того, что при двух подбрасываниях той же самой игральной кости сначала выпадет 2, а затем 5."
   ]
  },
  {
   "cell_type": "code",
   "execution_count": 4,
   "id": "1ed3cc16",
   "metadata": {},
   "outputs": [
    {
     "data": {
      "text/plain": [
       "0.027777777777777776"
      ]
     },
     "execution_count": 4,
     "metadata": {},
     "output_type": "execute_result"
    }
   ],
   "source": [
    "p = p2*p5\n",
    "p"
   ]
  },
  {
   "cell_type": "markdown",
   "id": "da67e61e",
   "metadata": {},
   "source": [
    "3. Найти вероятность выпадения 2 и 5 очков при двух подбрасываниях той же самой игральной игральной кости. Обратите внимание на порядок выпадения костей!"
   ]
  },
  {
   "cell_type": "code",
   "execution_count": 5,
   "id": "a02e800d",
   "metadata": {},
   "outputs": [
    {
     "data": {
      "text/plain": [
       "0.06666666666666667"
      ]
     },
     "execution_count": 5,
     "metadata": {},
     "output_type": "execute_result"
    }
   ],
   "source": [
    "p = 1 / combi(2, 6)\n",
    "p"
   ]
  },
  {
   "cell_type": "markdown",
   "id": "266ede68",
   "metadata": {},
   "source": [
    "4. На отрезке AB длиной 20 см наугад отметили точку C. Какова вероятность, что она находится на расстоянии не более 9 см от точки А и не более 15 см от точки В?"
   ]
  },
  {
   "cell_type": "code",
   "execution_count": 6,
   "id": "e3fac118",
   "metadata": {},
   "outputs": [
    {
     "data": {
      "image/png": "[encoded data removed]",
      "text/plain": [
       "<Figure size 360x14.4 with 1 Axes>"
      ]
     },
     "metadata": {
      "needs_background": "light"
     },
     "output_type": "display_data"
    }
   ],
   "source": [
    "plt.figure(figsize=(5,0.2))\n",
    "plt.axvline(20-15, c='g')\n",
    "plt.axvline(9, c='g')\n",
    "for i in np.linspace(5,9,100):\n",
    "    plt.axvline(i, c='g')\n",
    "plt.xlim(0,20)\n",
    "plt.xticks([0,5,9,20])\n",
    "plt.yticks([])\n",
    "plt.show()"
   ]
  },
  {
   "cell_type": "code",
   "execution_count": 7,
   "id": "adc1e586",
   "metadata": {},
   "outputs": [
    {
     "data": {
      "text/plain": [
       "0.2"
      ]
     },
     "execution_count": 7,
     "metadata": {},
     "output_type": "execute_result"
    }
   ],
   "source": [
    "p = (9-5)/20\n",
    "p"
   ]
  },
  {
   "cell_type": "markdown",
   "id": "d10a2b4e",
   "metadata": {},
   "source": [
    "5. Телефонный номер состоит из 7 цифр. Какова вероятность, \n",
    "что это номер 8882227?"
   ]
  },
  {
   "cell_type": "code",
   "execution_count": 8,
   "id": "154aeff1",
   "metadata": {},
   "outputs": [
    {
     "data": {
      "text/plain": [
       "1e-07"
      ]
     },
     "execution_count": 8,
     "metadata": {},
     "output_type": "execute_result"
    }
   ],
   "source": [
    "p = 1 / 10**7\n",
    "p"
   ]
  },
  {
   "cell_type": "markdown",
   "id": "4adfb66e",
   "metadata": {},
   "source": [
    "6. Набирая номер телефона, абонент забыл 2 последние цифры, и, помня только то, что эти цифры различны и среди них нет нуля, стал набирать их наудачу. Сколько вариантов ему надо перебрать, чтобы наверняка найти нужный номер? Какова вероятность того, что он угадает номер с первого раза?"
   ]
  },
  {
   "cell_type": "code",
   "execution_count": 9,
   "id": "d0ac6362",
   "metadata": {},
   "outputs": [
    {
     "data": {
      "text/plain": [
       "72.0"
      ]
     },
     "execution_count": 9,
     "metadata": {},
     "output_type": "execute_result"
    }
   ],
   "source": [
    "var = perm(2,9)\n",
    "var"
   ]
  },
  {
   "cell_type": "code",
   "execution_count": 10,
   "id": "5a00c2fb",
   "metadata": {},
   "outputs": [
    {
     "data": {
      "text/plain": [
       "0.013888888888888888"
      ]
     },
     "execution_count": 10,
     "metadata": {},
     "output_type": "execute_result"
    }
   ],
   "source": [
    "p = 1/var\n",
    "p"
   ]
  }
 ],
 "metadata": {
  "kernelspec": {
   "display_name": "Python 3 (ipykernel)",
   "language": "python",
   "name": "python3"
  },
  "language_info": {
   "codemirror_mode": {
    "name": "ipython",
    "version": 3
   },
   "file_extension": ".py",
   "mimetype": "text/x-python",
   "name": "python",
   "nbconvert_exporter": "python",
   "pygments_lexer": "ipython3",
   "version": "3.8.6"
  }
 },
 "nbformat": 4,
 "nbformat_minor": 5
}
