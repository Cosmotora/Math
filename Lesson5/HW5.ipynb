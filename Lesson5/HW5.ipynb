{
 "cells": [
  {
   "cell_type": "code",
   "execution_count": 1,
   "id": "007f1c30",
   "metadata": {},
   "outputs": [],
   "source": [
    "import numpy as np\n",
    "import matplotlib.pyplot as plt\n",
    "from math import factorial\n",
    "from itertools import permutations\n",
    "%matplotlib inline"
   ]
  },
  {
   "cell_type": "markdown",
   "id": "3ee63334",
   "metadata": {},
   "source": [
    "1. Напишите код, моделирующий выпадение поля в рулетке (с учетом поля зеро)."
   ]
  },
  {
   "cell_type": "code",
   "execution_count": 2,
   "id": "053f41a2",
   "metadata": {},
   "outputs": [],
   "source": [
    "def roulette():\n",
    "    val = np.random.randint(0, 37)\n",
    "    if val in [1,3,5,7,9,12,14,16,18,19,21,23,25,27,30,32,34,36]:\n",
    "        color = 'RED'\n",
    "    elif val!=0:\n",
    "        color = 'BLACK'\n",
    "    else:\n",
    "        print('ZERO')\n",
    "        return None\n",
    "    print(f\"{val}, {color}, {'EVEN' if val%2==0 else 'ODD'}\")"
   ]
  },
  {
   "cell_type": "code",
   "execution_count": 3,
   "id": "2dcfd4da",
   "metadata": {
    "scrolled": true
   },
   "outputs": [
    {
     "name": "stdout",
     "output_type": "stream",
     "text": [
      "20, BLACK, EVEN\n",
      "17, BLACK, ODD\n",
      "4, BLACK, EVEN\n",
      "16, RED, EVEN\n",
      "32, RED, EVEN\n",
      "13, BLACK, ODD\n",
      "17, BLACK, ODD\n",
      "24, BLACK, EVEN\n",
      "26, BLACK, EVEN\n",
      "24, BLACK, EVEN\n"
     ]
    }
   ],
   "source": [
    "for _ in range(10):\n",
    "    roulette()"
   ]
  },
  {
   "cell_type": "markdown",
   "id": "681e2b77",
   "metadata": {},
   "source": [
    "2.1. Напишите код, проверяющий любую из теорем сложения или умножения вероятности на примере рулетки или подбрасывания монетки."
   ]
  },
  {
   "cell_type": "code",
   "execution_count": 4,
   "id": "2e1c2bd0",
   "metadata": {},
   "outputs": [],
   "source": [
    "def coin(n_throws):\n",
    "    print(f'Должно при {n_throws} бросках выпасть {n_throws/2} орлов.')\n",
    "    throws = np.random.randint(0,2,n_throws)\n",
    "    print(f'Выпало {throws.sum()} орлов.')"
   ]
  },
  {
   "cell_type": "code",
   "execution_count": 5,
   "id": "85f1754b",
   "metadata": {},
   "outputs": [
    {
     "name": "stdout",
     "output_type": "stream",
     "text": [
      "Должно при 100 бросках выпасть 50.0 орлов.\n",
      "Выпало 48 орлов.\n"
     ]
    }
   ],
   "source": [
    "coin(100)"
   ]
  },
  {
   "cell_type": "markdown",
   "id": "843d2c26",
   "metadata": {},
   "source": [
    "2.2. Сгенерируйте десять выборок случайных чисел х0, …, х9 и постройте гистограмму распределения случайной суммы  +х0 + …+ х 9. "
   ]
  },
  {
   "cell_type": "code",
   "execution_count": 6,
   "id": "6602585b",
   "metadata": {},
   "outputs": [
    {
     "data": {
      "image/png": "[encoded data removed]",
      "text/plain": [
       "<Figure size 432x288 with 1 Axes>"
      ]
     },
     "metadata": {
      "needs_background": "light"
     },
     "output_type": "display_data"
    }
   ],
   "source": [
    "sample = np.random.uniform(0,10,(10,10))\n",
    "plt.hist(sample.sum(axis=1), bins=10, range=(0,100))\n",
    "plt.show()"
   ]
  },
  {
   "cell_type": "markdown",
   "id": "52dc2157",
   "metadata": {},
   "source": [
    "3.1. Дополните код Монте-Карло последовательности независимых испытаний расчетом соответствующих вероятностей (через биномиальное распределение) \n",
    "и сравните результаты."
   ]
  },
  {
   "cell_type": "code",
   "execution_count": 7,
   "id": "4a59a188",
   "metadata": {},
   "outputs": [],
   "source": [
    "def combi(k, n):\n",
    "    return factorial(n)/(factorial(k)*factorial(n-k))\n",
    "\n",
    "def binomial(p, k, n):\n",
    "    q = 1 - p\n",
    "    return combi(k, n) * p**k * q**(n-k)"
   ]
  },
  {
   "cell_type": "code",
   "execution_count": 8,
   "id": "3b5ef192",
   "metadata": {},
   "outputs": [
    {
     "name": "stdout",
     "output_type": "stream",
     "text": [
      "Теоретическая вероятность: 0.07958923738717877\n",
      "Результат эксперимента: 0.077\n"
     ]
    }
   ],
   "source": [
    "n = 100\n",
    "k = 50\n",
    "x = np.random.randint(0, 2, (n, 1000))\n",
    "res = x.sum(axis=0)\n",
    "k_rate = sum(res==k)\n",
    "print(f'Теоретическая вероятность: {binomial(0.5, k, n)}')\n",
    "print(f'Результат эксперимента: {k_rate/1000}')"
   ]
  },
  {
   "cell_type": "markdown",
   "id": "4cbc6d5e",
   "metadata": {},
   "source": [
    "3.2. Повторите расчеты биномиальных коэффициентов и вероятностей k успехов в последовательности из n независимых испытаний, взяв другие значения n и k."
   ]
  },
  {
   "cell_type": "code",
   "execution_count": 9,
   "id": "746fbf89",
   "metadata": {},
   "outputs": [
    {
     "name": "stdout",
     "output_type": "stream",
     "text": [
      "Теоретическая вероятность: 0.2734375\n",
      "Результат эксперимента: 0.276\n"
     ]
    }
   ],
   "source": [
    "n = 7\n",
    "k = 3\n",
    "x = np.random.randint(0, 2, (n, 1000))\n",
    "res = x.sum(axis=0)\n",
    "k_rate = sum(res==k)\n",
    "print(f'Теоретическая вероятность: {binomial(0.5, k, n)}')\n",
    "print(f'Результат эксперимента: {k_rate/1000}')"
   ]
  },
  {
   "cell_type": "markdown",
   "id": "387d1448",
   "metadata": {},
   "source": [
    "4. Из урока по комбинаторике повторите расчеты, сгенерировав возможные варианты перестановок для других значений n и k"
   ]
  },
  {
   "cell_type": "code",
   "execution_count": 10,
   "id": "c4ae6d52",
   "metadata": {},
   "outputs": [
    {
     "name": "stdout",
     "output_type": "stream",
     "text": [
      "012\n",
      "013\n",
      "021\n",
      "023\n",
      "031\n",
      "032\n",
      "102\n",
      "103\n",
      "120\n",
      "123\n",
      "130\n",
      "132\n",
      "201\n",
      "203\n",
      "210\n",
      "213\n",
      "230\n",
      "231\n",
      "301\n",
      "302\n",
      "310\n",
      "312\n",
      "320\n",
      "321\n",
      "Получилось 24\n",
      "Должно быть 24\n"
     ]
    }
   ],
   "source": [
    "n = 4\n",
    "k = 3\n",
    "c = 0\n",
    "for p in permutations(''.join(map(str,range(n))), k):\n",
    "    print(''.join(p))\n",
    "    c += 1\n",
    "print(f'Получилось {c}')\n",
    "print(f'Должно быть {int(factorial(n)/factorial(n-k))}')"
   ]
  },
  {
   "cell_type": "markdown",
   "id": "31d7b44b",
   "metadata": {},
   "source": [
    "5. Дополните код расчетом коэффициента корреляции x и y по формуле"
   ]
  },
  {
   "cell_type": "code",
   "execution_count": 11,
   "id": "db90db50",
   "metadata": {},
   "outputs": [
    {
     "name": "stdout",
     "output_type": "stream",
     "text": [
      "Коэффициент корреляции: 0.6683\n"
     ]
    },
    {
     "data": {
      "image/png": "[encoded data removed]",
      "text/plain": [
       "<Figure size 432x288 with 1 Axes>"
      ]
     },
     "metadata": {
      "needs_background": "light"
     },
     "output_type": "display_data"
    }
   ],
   "source": [
    "n = 100\n",
    "r = 0.4\n",
    "x = np.random.rand(n)\n",
    "y = r*x + (1 - r) * np.random.rand(n)\n",
    "corr = ((x - x.mean())*(y-y.mean())).sum() / np.sqrt(((x - x.mean())**2).sum()*((y - y.mean())**2).sum())\n",
    "\n",
    "plt.scatter(x, y)\n",
    "print(f'Коэффициент корреляции: {corr:.4f}')"
   ]
  }
 ],
 "metadata": {
  "kernelspec": {
   "display_name": "Python 3 (ipykernel)",
   "language": "python",
   "name": "python3"
  },
  "language_info": {
   "codemirror_mode": {
    "name": "ipython",
    "version": 3
   },
   "file_extension": ".py",
   "mimetype": "text/x-python",
   "name": "python",
   "nbconvert_exporter": "python",
   "pygments_lexer": "ipython3",
   "version": "3.8.6"
  }
 },
 "nbformat": 4,
 "nbformat_minor": 5
}
